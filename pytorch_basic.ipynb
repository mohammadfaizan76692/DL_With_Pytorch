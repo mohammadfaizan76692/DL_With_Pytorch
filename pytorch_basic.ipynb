{
 "cells": [
  {
   "cell_type": "markdown",
   "id": "afb9ae26",
   "metadata": {
    "vscode": {
     "languageId": "plaintext"
    }
   },
   "source": [
    "## Tensor Initialization"
   ]
  },
  {
   "cell_type": "code",
   "execution_count": 1,
   "id": "1fbc934d",
   "metadata": {},
   "outputs": [],
   "source": [
    "import torch\n",
    "import numpy as np"
   ]
  },
  {
   "cell_type": "code",
   "execution_count": 8,
   "id": "7abcb71e",
   "metadata": {},
   "outputs": [
    {
     "name": "stdout",
     "output_type": "stream",
     "text": [
      "cpu\n"
     ]
    }
   ],
   "source": [
    "## setting device \n",
    "device = \"cuda\" if torch.cuda.is_available() else \"cpu\"\n",
    "\n",
    "print(device)"
   ]
  },
  {
   "cell_type": "code",
   "execution_count": 3,
   "id": "f7e9eda0",
   "metadata": {},
   "outputs": [
    {
     "name": "stdout",
     "output_type": "stream",
     "text": [
      "tensor([[1., 2., 3., 5., 6.],\n",
      "        [2., 3., 4., 5., 6.]], requires_grad=True)\n",
      "torch.Size([2, 5])\n",
      "torch.float32\n",
      "True\n"
     ]
    }
   ],
   "source": [
    "my_tensor = torch.tensor([[1,2,3,5,6],[2,3,4,5,6]], dtype = torch.float32, device=device, requires_grad=True)\n",
    "## printing tensor\n",
    "print(my_tensor)\n",
    "\n",
    "## to know the shape\n",
    "print(my_tensor.shape)\n",
    "\n",
    "## to know the dtyoe of it \n",
    "print(my_tensor.dtype)\n",
    "\n",
    "## to know if it require grad or not\n",
    "print(my_tensor.requires_grad)\n"
   ]
  },
  {
   "cell_type": "markdown",
   "id": "fe7ade92",
   "metadata": {},
   "source": [
    "### Common initialization method"
   ]
  },
  {
   "cell_type": "code",
   "execution_count": null,
   "id": "ad94718f",
   "metadata": {},
   "outputs": [
    {
     "name": "stdout",
     "output_type": "stream",
     "text": [
      "tensor([[6.6213e-24, 1.1028e-42, 0.0000e+00],\n",
      "        [0.0000e+00, 0.0000e+00, 0.0000e+00],\n",
      "        [0.0000e+00, 0.0000e+00, 0.0000e+00]])\n"
     ]
    }
   ],
   "source": [
    "\n",
    "#1) Empty Method (uninitialize contains  Random Garbage)\n",
    "x = torch.empty(size = (3,3))\n",
    "print(x)\n",
    "\n",
    "#2) Zeros Initialization (initilizae the matrix with zeros)\n",
    "x = torch.zeros(size = (2,3))\n",
    "print(x)\n",
    "\n",
    "#3) rand initialization (initialize the matrix with uniform distribution [0,1)\n",
    "x = torch.rand(size =(4,5))\n",
    "print(x)\n",
    "\n",
    "#4) Ones Initialization (initialize the matrix with one)\n",
    "x = torch.one(size = (3,4))\n",
    "print(x)\n",
    "\n",
    "#5)eye Identity Matrix Initialization (9nitialize the matrix ) or put one diagoally\n",
    "x = torch.eye(size = (5,5))\n",
    "print(x)\n",
    "\n",
    "\n",
    "#6) arange -> like range in pyth \n",
    "x = torch.arange(start=0,end= 10, step=1) # same as torch.arange(10)\n",
    "print(x)\n",
    "x = torch.arange(start=3, end = 17, step = 4)\n",
    "print(x)\n",
    "\n",
    "\n",
    "## ******* Important linspace (pickup the numebr from equal space) ************\n",
    "x = torch.linspace(start=0, end=1 , step = 10) # picking up 10 numbers between 0 and 1 ,at equal spaces\n",
    "print(x)\n",
    "\n",
    "\n",
    "## Initialization with Normal Distribution \n",
    "x = torch.empty(size = (3,3)).normal_(mean=0, std=1)\n",
    "print(x)\n",
    "\n",
    "## Initiliazation with Uniform  Distribution\n",
    "x = torch.empty(size = (3,3)).uniform_(0,1) ## same like torch.rand(size = (3,3))\n",
    "print(x)\n",
    "\n",
    "\n",
    "\n",
    "## *** diag -> input 1D -> create 2D matrix with that diag and input 2D, output 1D with diagonal value \n",
    "oneD_input = torch.tensor([1,3,4,3,4])\n",
    "x = torch.diag(oneD_input)\n",
    "\n",
    "twoD_input = torch.rand(size = (3,3))\n",
    "print(twoD_input)\n",
    "diagonal_elements = torch.diag(twoD_input)\n",
    "print(diagonal_elements)\n"
   ]
  },
  {
   "cell_type": "markdown",
   "id": "30173a0e",
   "metadata": {},
   "source": [
    "### Changing Data type of Tensor"
   ]
  },
  {
   "cell_type": "code",
   "execution_count": 12,
   "id": "967cb33c",
   "metadata": {},
   "outputs": [
    {
     "name": "stdout",
     "output_type": "stream",
     "text": [
      "torch.int64\n",
      "torch.bool\n",
      "torch.int16\n",
      "torch.int64\n",
      "torch.float32\n",
      "torch.float64\n"
     ]
    }
   ],
   "source": [
    "x = torch.tensor([1,0,0,4])\n",
    "print(x.dtype)\n",
    "\n",
    "## into boolean\n",
    "print(x.bool().dtype)\n",
    "\n",
    "## into short\n",
    "print(x.short().dtype) # into int 16\n",
    "\n",
    "## into long \n",
    "print(x.long().dtype) # into int 64\n",
    "\n",
    "## into half\n",
    "print(x.float().dtype) # covert into float 32 *********Impportant!! *******88\n",
    "\n",
    "## into double\n",
    "print(x.double().dtype) # convert to float 64\n"
   ]
  },
  {
   "cell_type": "markdown",
   "id": "1cc85275",
   "metadata": {},
   "source": [
    "### numpy  array to  torch tensor , torch tensor to numpy numpy array"
   ]
  },
  {
   "cell_type": "code",
   "execution_count": 14,
   "id": "4c9ad478",
   "metadata": {},
   "outputs": [
    {
     "name": "stdout",
     "output_type": "stream",
     "text": [
      "tensor([1, 3, 4, 5])\n",
      "[1 3 4 5]\n",
      "<class 'numpy.ndarray'>\n"
     ]
    }
   ],
   "source": [
    "numpy_arr= np.array([1,3,4,5])\n",
    "## .from_numpy()\n",
    "tensor = torch.from_numpy(numpy_arr)\n",
    "print(tensor)\n",
    "\n",
    "## .numpy()\n",
    "numpy_arr = tensor.numpy()\n",
    "\n",
    "print(numpy_arr)\n",
    "print(type(numpy_arr))"
   ]
  },
  {
   "cell_type": "markdown",
   "id": "0e5697aa",
   "metadata": {},
   "source": [
    "## Tensor Math and Comparision "
   ]
  },
  {
   "cell_type": "code",
   "execution_count": null,
   "id": "9e5d6171",
   "metadata": {},
   "outputs": [],
   "source": []
  },
  {
   "cell_type": "code",
   "execution_count": null,
   "id": "155a8fb2",
   "metadata": {},
   "outputs": [],
   "source": []
  },
  {
   "cell_type": "code",
   "execution_count": null,
   "id": "6e9d732b",
   "metadata": {},
   "outputs": [],
   "source": []
  },
  {
   "cell_type": "code",
   "execution_count": null,
   "id": "649fae21",
   "metadata": {},
   "outputs": [],
   "source": []
  },
  {
   "cell_type": "code",
   "execution_count": null,
   "id": "4ab2dce5",
   "metadata": {},
   "outputs": [],
   "source": []
  },
  {
   "cell_type": "code",
   "execution_count": null,
   "id": "0b6b09b3",
   "metadata": {},
   "outputs": [],
   "source": []
  },
  {
   "cell_type": "code",
   "execution_count": null,
   "id": "d35d8147",
   "metadata": {},
   "outputs": [],
   "source": []
  },
  {
   "cell_type": "code",
   "execution_count": null,
   "id": "7dcac51e",
   "metadata": {},
   "outputs": [],
   "source": []
  },
  {
   "cell_type": "code",
   "execution_count": null,
   "id": "4c51d6bc",
   "metadata": {},
   "outputs": [],
   "source": []
  }
 ],
 "metadata": {
  "kernelspec": {
   "display_name": "venv",
   "language": "python",
   "name": "python3"
  },
  "language_info": {
   "codemirror_mode": {
    "name": "ipython",
    "version": 3
   },
   "file_extension": ".py",
   "mimetype": "text/x-python",
   "name": "python",
   "nbconvert_exporter": "python",
   "pygments_lexer": "ipython3",
   "version": "3.10.11"
  }
 },
 "nbformat": 4,
 "nbformat_minor": 5
}
